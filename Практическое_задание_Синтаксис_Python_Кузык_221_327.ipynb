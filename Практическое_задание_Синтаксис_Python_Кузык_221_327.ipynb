{
  "nbformat": 4,
  "nbformat_minor": 0,
  "metadata": {
    "colab": {
      "provenance": [],
      "authorship_tag": "ABX9TyOjft70HwA341+ZYZZvUIus",
      "include_colab_link": true
    },
    "kernelspec": {
      "name": "python3",
      "display_name": "Python 3"
    },
    "language_info": {
      "name": "python"
    }
  },
  "cells": [
    {
      "cell_type": "markdown",
      "metadata": {
        "id": "view-in-github",
        "colab_type": "text"
      },
      "source": [
        "<a href=\"https://colab.research.google.com/github/vanya890/AI_Study_Colab/blob/main/%D0%9F%D1%80%D0%B0%D0%BA%D1%82%D0%B8%D1%87%D0%B5%D1%81%D0%BA%D0%BE%D0%B5_%D0%B7%D0%B0%D0%B4%D0%B0%D0%BD%D0%B8%D0%B5_%D0%A1%D0%B8%D0%BD%D1%82%D0%B0%D0%BA%D1%81%D0%B8%D1%81_Python_%D0%9A%D1%83%D0%B7%D1%8B%D0%BA_221_327.ipynb\" target=\"_parent\"><img src=\"https://colab.research.google.com/assets/colab-badge.svg\" alt=\"Open In Colab\"/></a>"
      ]
    },
    {
      "cell_type": "markdown",
      "source": [
        "Кузык Иван 221-327\n",
        "Задание 1-1"
      ],
      "metadata": {
        "id": "Y2vvv4fJImsd"
      }
    },
    {
      "cell_type": "code",
      "source": [
        "data = [3, 124, 0.45, 'привет', {'ребята': 2}, 31.4, 'люди', 34, (12, 44)]\n",
        "\n",
        "result = []\n",
        "for i, item in enumerate(data):\n",
        "  if not isinstance(item, (int, float)):\n",
        "    result.append(i)\n",
        "\n",
        "print(*result)"
      ],
      "metadata": {
        "colab": {
          "base_uri": "https://localhost:8080/"
        },
        "id": "yf19UpYaIpPV",
        "outputId": "7b1d672d-724d-44fe-d2e6-170c9c7ef569"
      },
      "execution_count": null,
      "outputs": [
        {
          "output_type": "stream",
          "name": "stdout",
          "text": [
            "3 4 6 8\n"
          ]
        }
      ]
    },
    {
      "cell_type": "markdown",
      "source": [
        "Задание 1-2"
      ],
      "metadata": {
        "id": "O1vLg89CIwf5"
      }
    },
    {
      "cell_type": "code",
      "source": [
        "data = [3, 124, 0.45, 'привет', {'ребята': 2}, 31.4, 'люди', 34, (12, 44)]\n",
        "\n",
        "numbers_only = []\n",
        "for item in data:\n",
        "  if isinstance(item, (int, float)):\n",
        "    numbers_only.append(item)\n",
        "\n",
        "print(numbers_only)"
      ],
      "metadata": {
        "colab": {
          "base_uri": "https://localhost:8080/"
        },
        "id": "CfsTTIm0Ix4F",
        "outputId": "30174961-4516-4874-cf86-1e2af3010dfe"
      },
      "execution_count": null,
      "outputs": [
        {
          "output_type": "stream",
          "name": "stdout",
          "text": [
            "[3, 124, 0.45, 31.4, 34]\n"
          ]
        }
      ]
    },
    {
      "cell_type": "markdown",
      "source": [
        "Задание 2"
      ],
      "metadata": {
        "id": "oLWZKq1tJITA"
      }
    },
    {
      "cell_type": "code",
      "source": [
        "player_1 = [6, 10, 7, 8, 9, 6]\n",
        "player_2 = [10, 7, 9, 6, 10, 7]\n",
        "played_1 = []\n",
        "played_2 = []\n",
        "for i in range(min(len(player_1), len(player_2))):\n",
        "  card_1 = player_1.pop(0)\n",
        "  card_2 = player_2.pop(0)\n",
        "\n",
        "  if card_1 > card_2:\n",
        "    played_1.append(card_1)\n",
        "    played_1.append(card_2)\n",
        "  elif card_2 > card_1:\n",
        "    played_2.append(card_1)\n",
        "    played_2.append(card_2)\n",
        "\n",
        "sum_1 = sum(played_1)\n",
        "print(sum_1)\n",
        "sum_2 = sum(played_2)\n",
        "print(sum_2)\n",
        "\n",
        "if sum_1 < sum_2:\n",
        "  print(\"Победил player_1\")\n",
        "elif sum_2 < sum_1:\n",
        "  print(\"Победил player_2\")\n",
        "else:\n",
        "  print(\"Ничья\")"
      ],
      "metadata": {
        "colab": {
          "base_uri": "https://localhost:8080/"
        },
        "id": "vSBt9pvYJNBu",
        "outputId": "4319c40c-ef81-46ce-d352-d678dbbd8f5d"
      },
      "execution_count": null,
      "outputs": [
        {
          "output_type": "stream",
          "name": "stdout",
          "text": [
            "31\n",
            "64\n",
            "Победил player_1\n"
          ]
        }
      ]
    },
    {
      "cell_type": "markdown",
      "source": [
        "Задание 3"
      ],
      "metadata": {
        "id": "oEXlOsKULmoT"
      }
    },
    {
      "cell_type": "code",
      "source": [
        "words = input(\"Введите три слова через пробел: \")\n",
        "result = []\n",
        "\n",
        "for word in words.split():\n",
        "  transformed_word = '-'.join(word.upper())\n",
        "  result.append(transformed_word)\n",
        "\n",
        "print(' '.join(result))"
      ],
      "metadata": {
        "colab": {
          "base_uri": "https://localhost:8080/"
        },
        "id": "cmCVOGnXLyxx",
        "outputId": "1c9c8329-08b0-46aa-9676-47e75c65cefb"
      },
      "execution_count": null,
      "outputs": [
        {
          "output_type": "stream",
          "name": "stdout",
          "text": [
            "Введите три слова через пробел: Привет как дела\n",
            "П-Р-И-В-Е-Т К-А-К Д-Е-Л-А\n"
          ]
        }
      ]
    },
    {
      "cell_type": "markdown",
      "source": [
        "Задание 4"
      ],
      "metadata": {
        "id": "4O4RC3jpL9oM"
      }
    },
    {
      "cell_type": "code",
      "source": [
        "def check_path(path):\n",
        "  \"\"\"\n",
        "  Функция проверяет, возможен ли переданный ей путь по комнатам.\n",
        "  Коридор обозначается буквой «H» (Hall).\n",
        "\n",
        "  Args:\n",
        "    path: Список, представляющий путь по комнатам (например, ['H', 1, 'H', 2]).\n",
        "\n",
        "  Returns:\n",
        "    True, если путь возможен, False в противном случае.\n",
        "  \"\"\"\n",
        "\n",
        "  if not path:  # Пустой путь считается невозможным\n",
        "    return False\n",
        "\n",
        "  if path[0] != 'H' and not (1 <= path[0] <= 4):\n",
        "    return False  # Путь должен начинаться с коридора или комнаты\n",
        "\n",
        "  if path[-1] != 'H' and not (1 <= path[-1] <= 4):\n",
        "    return False  # Путь должен заканчиваться в коридоре или комнате\n",
        "\n",
        "  for i in range(len(path) - 1):\n",
        "    current = path[i]\n",
        "    next_room = path[i + 1]\n",
        "\n",
        "    if current == 'H':\n",
        "      if not (1 <= next_room <= 4):\n",
        "        return False  # Из коридора можно идти только в комнату\n",
        "    elif 1 <= current <= 4:\n",
        "      if next_room != 'H':\n",
        "        return False  # Из комнаты можно идти только в коридор\n",
        "\n",
        "  return True  # Если все проверки пройдены, путь возможен\n",
        "\n",
        "\n",
        "# Примеры использования:\n",
        "print(check_path(['H', 1, 'H', 2]))  # True\n",
        "print(check_path([1, 'H', 2, 'H']))  # True\n",
        "print(check_path(['H', 1, 2, 'H']))  # False (из комнаты 1 нельзя идти в комнату 2)\n",
        "print(check_path(['H', 1, 'H', 1]))  # True\n",
        "print(check_path([1, 2, 3, 4]))  # False (нельзя ходить между комнатами без коридора)\n",
        "\n",
        "path_str = input(\"Введите путь по комнатам (разделяйте элементы пробелами, H - коридор): \")\n",
        "path_list = []\n",
        "\n",
        "for item in path_str.split():\n",
        "  if item == 'H':\n",
        "    path_list.append('H')\n",
        "  elif item.isdigit():\n",
        "    path_list.append(int(item))\n",
        "  else:\n",
        "    print(f\"Некорректный элемент пути: {item}\")\n",
        "    exit()\n",
        "\n",
        "# Проверка пути:\n",
        "if check_path(path_list):\n",
        "  print(\"Путь возможен\")\n",
        "else:\n",
        "  print(\"Путь невозможен\")"
      ],
      "metadata": {
        "colab": {
          "base_uri": "https://localhost:8080/"
        },
        "id": "4PdK3Yv1L-xB",
        "outputId": "3728dad3-3c94-4200-83bd-02fc1e89cf5f"
      },
      "execution_count": null,
      "outputs": [
        {
          "output_type": "stream",
          "name": "stdout",
          "text": [
            "True\n",
            "True\n",
            "False\n",
            "True\n",
            "False\n",
            "Введите путь по комнатам (разделяйте элементы пробелами, H - коридор): 1 H 2 H 1 H 3 H 4\n",
            "Путь возможен\n"
          ]
        }
      ]
    }
  ]
}